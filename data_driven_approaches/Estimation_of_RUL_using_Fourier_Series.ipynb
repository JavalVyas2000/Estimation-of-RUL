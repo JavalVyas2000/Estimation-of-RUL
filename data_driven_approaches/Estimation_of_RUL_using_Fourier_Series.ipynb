{
  "nbformat": 4,
  "nbformat_minor": 0,
  "metadata": {
    "colab": {
      "name": "Estimation of RUL using Fourier Series.ipynb",
      "provenance": [],
      "authorship_tag": "ABX9TyNZshxwBJq9LlRMzkCWAyeG",
      "include_colab_link": true
    },
    "kernelspec": {
      "name": "python3",
      "display_name": "Python 3"
    },
    "language_info": {
      "name": "python"
    }
  },
  "cells": [
    {
      "cell_type": "markdown",
      "metadata": {
        "id": "view-in-github",
        "colab_type": "text"
      },
      "source": [
        "<a href=\"https://colab.research.google.com/github/JavalVyas2000/Estimation-of-RUL/blob/main/Estimation_of_RUL_using_Fourier_Series.ipynb\" target=\"_parent\"><img src=\"https://colab.research.google.com/assets/colab-badge.svg\" alt=\"Open In Colab\"/></a>"
      ]
    },
    {
      "cell_type": "code",
      "execution_count": null,
      "metadata": {
        "id": "Bd_X_Qt44jmv"
      },
      "outputs": [],
      "source": [
        "# installing all the prerequisited for connecting with the drive.\n",
        "!pip install -U -q PyDrive\n",
        "from pydrive.auth import GoogleAuth\n",
        "from pydrive.drive import GoogleDrive\n",
        "from google.colab import auth\n",
        "from oauth2client.client import GoogleCredentials\n",
        "\n",
        "auth.authenticate_user()\n",
        "gauth = GoogleAuth()\n",
        "gauth.credentials = GoogleCredentials.get_application_default()\n",
        "drive = GoogleDrive(gauth)"
      ]
    },
    {
      "cell_type": "code",
      "source": [
        "# Mounting the drive\n",
        "from google.colab import drive\n",
        "drive.mount('/content/gdrive')"
      ],
      "metadata": {
        "id": "pw2-jSam44NR"
      },
      "execution_count": null,
      "outputs": []
    },
    {
      "cell_type": "code",
      "source": [
        "# Installing the python libraries that we may use\n",
        "import numpy as np\n",
        "import pylab as pl\n",
        "from numpy import fft"
      ],
      "metadata": {
        "id": "uXnTFk2547of"
      },
      "execution_count": null,
      "outputs": []
    },
    {
      "cell_type": "code",
      "source": [
        "# Organizing data well. \n",
        "data4=pd.read_excel('gdrive/MyDrive/RUL data/B0007_discap.xlsx')\n",
        "cycle_no=[]\n",
        "p=int(data4['Cycle'][data4.shape[0]-1])\n",
        "for i in range(p):\n",
        "  cycle_no.append(i+1)\n",
        "Discap=[None]*len(cycle_no)\n",
        "for i in range(data4.shape[0]-1):\n",
        "  Discap[int(data4['Cycle'][i])]=data4['Discap'][i]"
      ],
      "metadata": {
        "id": "-tQ-bTx85PLG"
      },
      "execution_count": null,
      "outputs": []
    },
    {
      "cell_type": "code",
      "source": [
        "# Taking the fft and making an extrapolation of the data\n",
        "def fourierExtrapolation(x, n_predict):\n",
        "    n = x.size\n",
        "    n_harm = 100000                 # number of harmonics in model\n",
        "    t = np.arange(0, n)\n",
        "    p = np.polyfit(t, x, 1)         # find linear trend in x\n",
        "    x_notrend = x - p[0] * t        # detrended x\n",
        "    x_freqdom = fft.fft(x_notrend)  # detrended x in frequency domain\n",
        "    f = fft.fftfreq(n)              # frequencies\n",
        "    indexes = list(range(n))\n",
        "    # sort indexes by frequency, lower -> higher\n",
        "    indexes.sort(key = lambda i: np.absolute(f[i]))\n",
        " \n",
        "    t = np.arange(0, n + n_predict)\n",
        "    restored_sig = np.zeros(t.size)\n",
        "    for i in indexes[:1 + n_harm * 2]:\n",
        "        ampli = np.absolute(x_freqdom[i]) / n   # amplitude\n",
        "        phase = np.angle(x_freqdom[i])          # phase\n",
        "        restored_sig += ampli * np.cos(2 * np.pi * f[i] * t + phase)\n",
        "    return restored_sig + p[0] * t\n",
        "    \n",
        "x = df71\n",
        "n_predict = test7.size\n",
        "extrapolation = fourierExtrapolation(x, n_predict)\n",
        "plt.figure(figsize=(16, 8))\n",
        "pl.plot(np.arange(0, extrapolation.size), extrapolation, 'r', label = 'Forecast', linewidth = 4)\n",
        "pl.plot(np.arange(0, x.size), x, 'y', label = 'train', linewidth = 4)\n",
        "plt.plot(np.arange(x.size,x.size+test7.size),test7,label='test')\n",
        "plt.xlabel(\"Cycle_no\")\n",
        "plt.ylabel(\"Discap\")\n",
        "plt.title(\"B0007\")\n",
        "pl.legend()\n",
        "pl.show()"
      ],
      "metadata": {
        "id": "JfajxB8l5A1L"
      },
      "execution_count": null,
      "outputs": []
    },
    {
      "cell_type": "code",
      "source": [
        "# evaluation metrics - RMSE, MSE, MAPE, MAE\n",
        "import math\n",
        "RMSE7 = math.sqrt(mean_squared_error(test7, extrapolation[-n_predict:]))\n",
        "print('Test Score: %.4f RMSE' % (RMSE7))\n",
        "MSE7=mean_squared_error(test7, extrapolation[-n_predict:])\n",
        "print('Test Score: %.4f RMSE' % (MSE7))\n",
        "pred=np.array(extrapolation[-n_predict:])\n",
        "actual=np.array(test7)\n",
        "MAPE7=np.mean(np.abs((actual-pred)/actual))*100\n",
        "print('Test Score: %.4f MAPE' % (MAPE7))\n",
        "MAE7=np.mean(np.abs((actual-pred)))\n",
        "print('Test Score: %.4f MAPE' % (MAE7))"
      ],
      "metadata": {
        "id": "wYYMHZSo5BPw"
      },
      "execution_count": null,
      "outputs": []
    },
    {
      "cell_type": "code",
      "source": [],
      "metadata": {
        "id": "MUpNhsKh5BYw"
      },
      "execution_count": null,
      "outputs": []
    }
  ]
}